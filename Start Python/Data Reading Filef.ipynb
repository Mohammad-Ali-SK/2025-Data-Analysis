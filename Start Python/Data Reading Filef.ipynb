{
 "cells": [
  {
   "cell_type": "markdown",
   "metadata": {},
   "source": [
    "## Data Reading File"
   ]
  },
  {
   "cell_type": "code",
   "execution_count": 2,
   "metadata": {},
   "outputs": [
    {
     "name": "stderr",
     "output_type": "stream",
     "text": [
      "C:\\Users\\moham\\AppData\\Local\\Temp\\ipykernel_3768\\2151744951.py:1: DeprecationWarning: \n",
      "Pyarrow will become a required dependency of pandas in the next major release of pandas (pandas 3.0),\n",
      "(to allow more performant data types, such as the Arrow string type, and better interoperability with other libraries)\n",
      "but was not found to be installed on your system.\n",
      "If this would cause problems for you,\n",
      "please provide us feedback at https://github.com/pandas-dev/pandas/issues/54466\n",
      "        \n",
      "  import pandas as pd\n"
     ]
    }
   ],
   "source": [
    "import pandas as pd\n",
    "import numpy as np\n",
    "import matplotlib.pyplot as plt"
   ]
  },
  {
   "cell_type": "code",
   "execution_count": 3,
   "metadata": {},
   "outputs": [
    {
     "name": "stdout",
     "output_type": "stream",
     "text": [
      "Hi I'm Mohammad , a 25-year-old software engineer from Iran. I'm here to learn and improve my English\n"
     ]
    }
   ],
   "source": [
    "fd = open('Data.txt','r')\n",
    "print(fd.read())\n",
    "fd.close()\n"
   ]
  },
  {
   "cell_type": "code",
   "execution_count": 4,
   "metadata": {},
   "outputs": [
    {
     "name": "stdout",
     "output_type": "stream",
     "text": [
      "@\n",
      "#\n",
      "%\n",
      "^\n",
      "&\n",
      "*\n",
      "!\n"
     ]
    }
   ],
   "source": [
    "for i in \"@#%^&*!\":\n",
    "    print(i)"
   ]
  },
  {
   "cell_type": "code",
   "execution_count": 5,
   "metadata": {},
   "outputs": [
    {
     "name": "stdout",
     "output_type": "stream",
     "text": [
      "Data Reading Filef.ipynb\n",
      "Data.txt\n",
      "Inventory_Management.py\n",
      "Untitled.ipynb\n",
      "tempCodeRunnerFile.py\n"
     ]
    }
   ],
   "source": [
    "!ls"
   ]
  },
  {
   "cell_type": "code",
   "execution_count": 6,
   "metadata": {},
   "outputs": [
    {
     "name": "stdout",
     "output_type": "stream",
     "text": [
      "Hello World\n"
     ]
    }
   ],
   "source": [
    "print(\"Hello World\")"
   ]
  },
  {
   "cell_type": "code",
   "execution_count": 7,
   "metadata": {},
   "outputs": [
    {
     "data": {
      "text/plain": [
       "{'name': 'Mohammad Ali',\n",
       " 'ph': '9883367897',\n",
       " 'vill': 'Chhotoitna',\n",
       " 'dist': 'Nadia'}"
      ]
     },
     "execution_count": 7,
     "metadata": {},
     "output_type": "execute_result"
    }
   ],
   "source": [
    "record = {1001:{\"name\":\"Mohammad Ali\", \"ph\": '9883367897',        \"vill\": 'Chhotoitna',         \"dist\":'Nadia'},\n",
    "          1002:{\"name\":\"Sumon\",        \"ph\": '090708780',         \"vill\": 'debagram',           \"dist\":'Burdhwan'},\n",
    "          1003:{\"name\":\"Mamon\",        \"ph\": '6296321265',        \"vill\": 'Berhampur',          \"dist\":'Murshidabad'},\n",
    "}\n",
    "record[1001]"
   ]
  },
  {
   "cell_type": "code",
   "execution_count": 8,
   "metadata": {},
   "outputs": [
    {
     "name": "stdout",
     "output_type": "stream",
     "text": [
      "{'name': 'Mohammad Ali', 'ph': '9883367897', 'vill': 'Chhotoitna', 'dist': 'Nadia'}\n",
      "{'name': 'Sumon', 'ph': '090708780', 'vill': 'debagram', 'dist': 'Burdhwan'}\n",
      "{'name': 'Mamon', 'ph': '6296321265', 'vill': 'Berhampur', 'dist': 'Murshidabad'}\n"
     ]
    }
   ],
   "source": [
    "for key in record.keys():\n",
    "    print(record[key])"
   ]
  },
  {
   "cell_type": "code",
   "execution_count": 12,
   "metadata": {},
   "outputs": [
    {
     "name": "stdout",
     "output_type": "stream",
     "text": [
      "       name     city\n",
      "0  Mohammad  newyork\n",
      "1       Ali   london\n",
      "2     Sumon   german\n",
      "3     Mamon   berlin\n"
     ]
    }
   ],
   "source": [
    "import pandas as pd\n",
    "\n",
    "a = {\n",
    "    \"name\": ['Mohammad', 'Ali', 'Sumon', 'Mamon'],\n",
    "    \"city\": ['newyork', 'london', 'german', 'berlin']\n",
    "}\n",
    "\n",
    "b = pd.DataFrame(a)\n",
    "print(b)\n"
   ]
  },
  {
   "cell_type": "code",
   "execution_count": null,
   "metadata": {},
   "outputs": [],
   "source": []
  }
 ],
 "metadata": {
  "kernelspec": {
   "display_name": "Python 3",
   "language": "python",
   "name": "python3"
  },
  "language_info": {
   "codemirror_mode": {
    "name": "ipython",
    "version": 3
   },
   "file_extension": ".py",
   "mimetype": "text/x-python",
   "name": "python",
   "nbconvert_exporter": "python",
   "pygments_lexer": "ipython3",
   "version": "3.12.3"
  }
 },
 "nbformat": 4,
 "nbformat_minor": 2
}
