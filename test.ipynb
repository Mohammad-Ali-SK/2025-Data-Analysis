{
 "cells": [
  {
   "cell_type": "code",
   "execution_count": 2,
   "id": "5373911f",
   "metadata": {},
   "outputs": [],
   "source": [
    "a = 1"
   ]
  },
  {
   "cell_type": "code",
   "execution_count": 9,
   "id": "37a9d9e1",
   "metadata": {},
   "outputs": [
    {
     "name": "stdout",
     "output_type": "stream",
     "text": [
      "Ok you enter the correct number\n"
     ]
    }
   ],
   "source": [
    "num = int(input(\"Enter the number : - \"))\n",
    "\n",
    "\n",
    "if num == a:\n",
    "    print(\"Ok you enter the correct number\")\n",
    "else:\n",
    "    print(\"Sorry you enter wrong input !\")"
   ]
  },
  {
   "cell_type": "code",
   "execution_count": null,
   "id": "cd77e17a",
   "metadata": {},
   "outputs": [],
   "source": []
  }
 ],
 "metadata": {
  "kernelspec": {
   "display_name": "Python 3",
   "language": "python",
   "name": "python3"
  },
  "language_info": {
   "codemirror_mode": {
    "name": "ipython",
    "version": 3
   },
   "file_extension": ".py",
   "mimetype": "text/x-python",
   "name": "python",
   "nbconvert_exporter": "python",
   "pygments_lexer": "ipython3",
   "version": "3.12.3"
  }
 },
 "nbformat": 4,
 "nbformat_minor": 5
}
