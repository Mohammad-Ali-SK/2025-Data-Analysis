{
 "cells": [
  {
   "cell_type": "code",
   "execution_count": 1,
   "id": "ff95ca7a",
   "metadata": {},
   "outputs": [],
   "source": [
    "import pandas as pd\n",
    "import numpy as np\n",
    "from sklearn.impute import SimpleImputer\n",
    "from sklearn.preprocessing import StandardScaler, MinMaxScaler, LabelEncoder\n",
    "\n"
   ]
  },
  {
   "cell_type": "code",
   "execution_count": 2,
   "id": "ed656426",
   "metadata": {},
   "outputs": [],
   "source": [
    "constituencywise_details = pd.read_csv('constituencywise_details.csv')"
   ]
  },
  {
   "cell_type": "code",
   "execution_count": 3,
   "id": "a7c936a7",
   "metadata": {},
   "outputs": [],
   "source": [
    "constituencywise_results = pd.read_csv('./constituencywise_results.csv')"
   ]
  },
  {
   "cell_type": "code",
   "execution_count": 4,
   "id": "2743cff8",
   "metadata": {},
   "outputs": [],
   "source": [
    "partywise_results = pd.read_csv('./partywise_results.csv')"
   ]
  },
  {
   "cell_type": "code",
   "execution_count": 5,
   "id": "593439d0",
   "metadata": {},
   "outputs": [],
   "source": [
    "sates = pd.read_csv('./states.csv')\n"
   ]
  },
  {
   "cell_type": "code",
   "execution_count": 6,
   "id": "5a69161d",
   "metadata": {},
   "outputs": [],
   "source": [
    "satewise_results = pd.read_csv('./statewise_results.csv')"
   ]
  },
  {
   "cell_type": "code",
   "execution_count": 8,
   "id": "cf7649af",
   "metadata": {},
   "outputs": [
    {
     "name": "stdout",
     "output_type": "stream",
     "text": [
      "S.N.\n",
      "Candidate\n",
      "Party\n",
      "EVM Votes\n",
      "Postal Votes\n",
      "Total Votes\n",
      "% of Votes\n",
      "Constituency ID\n"
     ]
    }
   ],
   "source": [
    "for i in constituencywise_details.columns.values:\n",
    "    print(i)"
   ]
  },
  {
   "cell_type": "code",
   "execution_count": 9,
   "id": "bd3ac04e",
   "metadata": {},
   "outputs": [
    {
     "name": "stdout",
     "output_type": "stream",
     "text": [
      "S.No\n",
      "Parliament Constituency\n",
      "Constituency Name\n",
      "Winning Candidate\n",
      "Total Votes\n",
      "Margin\n",
      "Constituency ID\n",
      "Party ID\n"
     ]
    }
   ],
   "source": [
    "for i in constituencywise_results.columns.values:\n",
    "    print(i)"
   ]
  },
  {
   "cell_type": "code",
   "execution_count": 10,
   "id": "b6e77a3a",
   "metadata": {},
   "outputs": [
    {
     "name": "stdout",
     "output_type": "stream",
     "text": [
      "Party\n",
      "Won\n",
      "Party ID\n"
     ]
    }
   ],
   "source": [
    "for i in partywise_results.columns.values:\n",
    "    print(i)"
   ]
  },
  {
   "cell_type": "code",
   "execution_count": 11,
   "id": "724f655f",
   "metadata": {},
   "outputs": [
    {
     "name": "stdout",
     "output_type": "stream",
     "text": [
      "State ID\n",
      "State\n"
     ]
    }
   ],
   "source": [
    "for i in sates.columns.values:\n",
    "    print(i)"
   ]
  },
  {
   "cell_type": "code",
   "execution_count": 12,
   "id": "4519c56a",
   "metadata": {},
   "outputs": [
    {
     "name": "stdout",
     "output_type": "stream",
     "text": [
      "Constituency\n",
      "Const. No.\n",
      "Parliament Constituency\n",
      "Leading Candidate\n",
      "Trailing Candidate\n",
      "Margin\n",
      "Status\n",
      "State ID\n",
      "State\n"
     ]
    }
   ],
   "source": [
    "for i in satewise_results.columns.values:\n",
    "    print(i)"
   ]
  },
  {
   "cell_type": "code",
   "execution_count": null,
   "id": "99202dfc",
   "metadata": {},
   "outputs": [],
   "source": []
  }
 ],
 "metadata": {
  "kernelspec": {
   "display_name": "Python 3",
   "language": "python",
   "name": "python3"
  },
  "language_info": {
   "codemirror_mode": {
    "name": "ipython",
    "version": 3
   },
   "file_extension": ".py",
   "mimetype": "text/x-python",
   "name": "python",
   "nbconvert_exporter": "python",
   "pygments_lexer": "ipython3",
   "version": "3.12.3"
  }
 },
 "nbformat": 4,
 "nbformat_minor": 5
}
