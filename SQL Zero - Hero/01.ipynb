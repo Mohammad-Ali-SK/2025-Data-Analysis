{
 "cells": [
  {
   "cell_type": "code",
   "execution_count": 1,
   "id": "8be026f2",
   "metadata": {},
   "outputs": [],
   "source": [
    "import pandas as pd\n",
    "import numpy as np\n"
   ]
  },
  {
   "cell_type": "code",
   "execution_count": 5,
   "id": "2ad80453",
   "metadata": {},
   "outputs": [],
   "source": [
    "order_details = pd.read_csv('.//pizza_sales/order_details.csv')\n",
    "orders = pd.read_csv('.//pizza_sales/orders.csv')\n",
    "# pizza_types = pd.read_csv('.//pizza_sales/pizza_types.csv')\n",
    "pizzas = pd.read_csv('.//pizza_sales/pizzas.csv')"
   ]
  },
  {
   "cell_type": "code",
   "execution_count": 11,
   "id": "ff4915d5",
   "metadata": {},
   "outputs": [],
   "source": [
    "pizza_types = pd.read_csv('.//pizza_sales/pizza_types.csv', encoding='latin1')"
   ]
  },
  {
   "cell_type": "code",
   "execution_count": null,
   "id": "1c905389",
   "metadata": {},
   "outputs": [
    {
     "name": "stdout",
     "output_type": "stream",
     "text": [
      "order_details_id\n",
      "order_id\n",
      "pizza_id\n",
      "quantity\n"
     ]
    }
   ],
   "source": [
    "for i in order_details.columns:\n",
    "    print(i)"
   ]
  },
  {
   "cell_type": "code",
   "execution_count": 8,
   "id": "cdc11737",
   "metadata": {},
   "outputs": [
    {
     "name": "stdout",
     "output_type": "stream",
     "text": [
      "order_id\n",
      "date\n",
      "time\n"
     ]
    }
   ],
   "source": [
    "for i in orders.columns:\n",
    "    print(i)"
   ]
  },
  {
   "cell_type": "code",
   "execution_count": null,
   "id": "8735b67c",
   "metadata": {},
   "outputs": [
    {
     "name": "stdout",
     "output_type": "stream",
     "text": [
      "pizza_id\n",
      "pizza_type_id\n",
      "size\n",
      "price\n"
     ]
    }
   ],
   "source": [
    "for i in pizzas.columns:\n",
    "    print(i)\n",
    "    "
   ]
  },
  {
   "cell_type": "code",
   "execution_count": 12,
   "id": "1253c84b",
   "metadata": {},
   "outputs": [
    {
     "name": "stdout",
     "output_type": "stream",
     "text": [
      "pizza_type_id\n",
      "name\n",
      "category\n",
      "ingredients\n"
     ]
    }
   ],
   "source": [
    "for i in pizza_types.columns:\n",
    "    print(i)"
   ]
  },
  {
   "cell_type": "code",
   "execution_count": null,
   "id": "e9af76ff",
   "metadata": {},
   "outputs": [],
   "source": []
  }
 ],
 "metadata": {
  "kernelspec": {
   "display_name": "Python 3",
   "language": "python",
   "name": "python3"
  },
  "language_info": {
   "codemirror_mode": {
    "name": "ipython",
    "version": 3
   },
   "file_extension": ".py",
   "mimetype": "text/x-python",
   "name": "python",
   "nbconvert_exporter": "python",
   "pygments_lexer": "ipython3",
   "version": "3.12.3"
  }
 },
 "nbformat": 4,
 "nbformat_minor": 5
}
